{
 "cells": [
  {
   "cell_type": "code",
   "execution_count": null,
   "id": "b8d4a5ef",
   "metadata": {},
   "outputs": [],
   "source": [
    "\"\"\"numpy is inherited from matlab\"\"\""
   ]
  },
  {
   "cell_type": "code",
   "execution_count": 1,
   "id": "347d00c1",
   "metadata": {},
   "outputs": [],
   "source": [
    "import numpy as np"
   ]
  }
 ],
 "metadata": {
  "kernelspec": {
   "display_name": "Python 3 (ipykernel)",
   "language": "python",
   "name": "python3"
  },
  "language_info": {
   "codemirror_mode": {
    "name": "ipython",
    "version": 3
   },
   "file_extension": ".py",
   "mimetype": "text/x-python",
   "name": "python",
   "nbconvert_exporter": "python",
   "pygments_lexer": "ipython3",
   "version": "3.9.7"
  }
 },
 "nbformat": 4,
 "nbformat_minor": 5
}
