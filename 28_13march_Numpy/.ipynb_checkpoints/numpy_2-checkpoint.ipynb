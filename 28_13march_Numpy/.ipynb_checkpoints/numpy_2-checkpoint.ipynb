{
 "cells": [
  {
   "cell_type": "code",
   "execution_count": 2,
   "id": "b4252734",
   "metadata": {},
   "outputs": [],
   "source": [
    "import numpy as np"
   ]
  },
  {
   "cell_type": "code",
   "execution_count": 2,
   "id": "97a9d47d",
   "metadata": {},
   "outputs": [],
   "source": [
    "l=[1,2,3,4,5]"
   ]
  },
  {
   "cell_type": "code",
   "execution_count": 3,
   "id": "e029a11a",
   "metadata": {},
   "outputs": [
    {
     "data": {
      "text/plain": [
       "array([1, 2, 3, 4, 5])"
      ]
     },
     "execution_count": 3,
     "metadata": {},
     "output_type": "execute_result"
    }
   ],
   "source": [
    "np.array(l)"
   ]
  },
  {
   "cell_type": "code",
   "execution_count": 4,
   "id": "b23b53ac",
   "metadata": {},
   "outputs": [
    {
     "data": {
      "text/plain": [
       "array([1, 2, 3, 4, 5])"
      ]
     },
     "execution_count": 4,
     "metadata": {},
     "output_type": "execute_result"
    }
   ],
   "source": [
    "np.asarray(l)"
   ]
  },
  {
   "cell_type": "markdown",
   "id": "a46bead7",
   "metadata": {},
   "source": [
    "# np.zeros()"
   ]
  },
  {
   "cell_type": "code",
   "execution_count": 5,
   "id": "b0eafed8",
   "metadata": {},
   "outputs": [
    {
     "data": {
      "text/plain": [
       "array([0., 0., 0., 0., 0.])"
      ]
     },
     "execution_count": 5,
     "metadata": {},
     "output_type": "execute_result"
    }
   ],
   "source": [
    "np.zeros(5) #1d array"
   ]
  },
  {
   "cell_type": "code",
   "execution_count": 6,
   "id": "2ea7d277",
   "metadata": {},
   "outputs": [
    {
     "ename": "TypeError",
     "evalue": "Cannot interpret '4' as a data type",
     "output_type": "error",
     "traceback": [
      "\u001b[0;31m---------------------------------------------------------------------------\u001b[0m",
      "\u001b[0;31mTypeError\u001b[0m                                 Traceback (most recent call last)",
      "\u001b[0;32m/var/folders/zk/rl6r2z6d34z00g5q8tfywxt00000gn/T/ipykernel_1080/1738793189.py\u001b[0m in \u001b[0;36m<module>\u001b[0;34m\u001b[0m\n\u001b[0;32m----> 1\u001b[0;31m \u001b[0mnp\u001b[0m\u001b[0;34m.\u001b[0m\u001b[0mzeros\u001b[0m\u001b[0;34m(\u001b[0m\u001b[0;36m2\u001b[0m\u001b[0;34m,\u001b[0m\u001b[0;36m4\u001b[0m\u001b[0;34m)\u001b[0m\u001b[0;34m\u001b[0m\u001b[0;34m\u001b[0m\u001b[0m\n\u001b[0m",
      "\u001b[0;31mTypeError\u001b[0m: Cannot interpret '4' as a data type"
     ]
    }
   ],
   "source": [
    "np.zeros(2,4)"
   ]
  },
  {
   "cell_type": "code",
   "execution_count": 7,
   "id": "0ed3b207",
   "metadata": {},
   "outputs": [
    {
     "data": {
      "text/plain": [
       "array([[0., 0., 0., 0., 0.],\n",
       "       [0., 0., 0., 0., 0.],\n",
       "       [0., 0., 0., 0., 0.]])"
      ]
     },
     "execution_count": 7,
     "metadata": {},
     "output_type": "execute_result"
    }
   ],
   "source": [
    "np.zeros((3,5))"
   ]
  },
  {
   "cell_type": "code",
   "execution_count": 8,
   "id": "f92abd16",
   "metadata": {},
   "outputs": [
    {
     "data": {
      "text/plain": [
       "array([[[0., 0., 0., 0., 0.],\n",
       "        [0., 0., 0., 0., 0.],\n",
       "        [0., 0., 0., 0., 0.]],\n",
       "\n",
       "       [[0., 0., 0., 0., 0.],\n",
       "        [0., 0., 0., 0., 0.],\n",
       "        [0., 0., 0., 0., 0.]]])"
      ]
     },
     "execution_count": 8,
     "metadata": {},
     "output_type": "execute_result"
    }
   ],
   "source": [
    "np.zeros((2,3,5)) # 2arrays of size 3x5"
   ]
  },
  {
   "cell_type": "markdown",
   "id": "5636e2ef",
   "metadata": {},
   "source": [
    "# np.ones()"
   ]
  },
  {
   "cell_type": "code",
   "execution_count": 9,
   "id": "a294539a",
   "metadata": {},
   "outputs": [
    {
     "data": {
      "text/plain": [
       "array([1., 1., 1., 1., 1.])"
      ]
     },
     "execution_count": 9,
     "metadata": {},
     "output_type": "execute_result"
    }
   ],
   "source": [
    "np.ones(5)"
   ]
  },
  {
   "cell_type": "code",
   "execution_count": 10,
   "id": "eba747fa",
   "metadata": {},
   "outputs": [
    {
     "data": {
      "text/plain": [
       "array([[1., 1., 1., 1., 1., 1.],\n",
       "       [1., 1., 1., 1., 1., 1.],\n",
       "       [1., 1., 1., 1., 1., 1.]])"
      ]
     },
     "execution_count": 10,
     "metadata": {},
     "output_type": "execute_result"
    }
   ],
   "source": [
    "np.ones((3,6))"
   ]
  },
  {
   "cell_type": "code",
   "execution_count": 11,
   "id": "76ae7b2e",
   "metadata": {},
   "outputs": [
    {
     "data": {
      "text/plain": [
       "array([[[1., 1., 1., 1.],\n",
       "        [1., 1., 1., 1.]],\n",
       "\n",
       "       [[1., 1., 1., 1.],\n",
       "        [1., 1., 1., 1.]],\n",
       "\n",
       "       [[1., 1., 1., 1.],\n",
       "        [1., 1., 1., 1.]]])"
      ]
     },
     "execution_count": 11,
     "metadata": {},
     "output_type": "execute_result"
    }
   ],
   "source": [
    "np.ones((3,2,4)) # 3 arrays of size 2x4"
   ]
  },
  {
   "cell_type": "code",
   "execution_count": null,
   "id": "21d4e526",
   "metadata": {},
   "outputs": [],
   "source": []
  },
  {
   "cell_type": "code",
   "execution_count": null,
   "id": "7d6ffc6d",
   "metadata": {},
   "outputs": [],
   "source": []
  },
  {
   "cell_type": "code",
   "execution_count": 12,
   "id": "b3c5e251",
   "metadata": {},
   "outputs": [
    {
     "data": {
      "text/plain": [
       "array([[5., 5., 5., 5.],\n",
       "       [5., 5., 5., 5.],\n",
       "       [5., 5., 5., 5.]])"
      ]
     },
     "execution_count": 12,
     "metadata": {},
     "output_type": "execute_result"
    }
   ],
   "source": [
    "5 + np.zeros((3,4))"
   ]
  },
  {
   "cell_type": "code",
   "execution_count": 13,
   "id": "5d2b7845",
   "metadata": {},
   "outputs": [],
   "source": [
    "a=np.zeros((3,5))"
   ]
  },
  {
   "cell_type": "code",
   "execution_count": 14,
   "id": "bb66d00b",
   "metadata": {},
   "outputs": [
    {
     "data": {
      "text/plain": [
       "array([[0., 0., 0., 0., 0.],\n",
       "       [0., 0., 0., 0., 0.],\n",
       "       [0., 0., 0., 0., 0.]])"
      ]
     },
     "execution_count": 14,
     "metadata": {},
     "output_type": "execute_result"
    }
   ],
   "source": [
    "a"
   ]
  },
  {
   "cell_type": "code",
   "execution_count": 15,
   "id": "9af66afc",
   "metadata": {},
   "outputs": [
    {
     "data": {
      "text/plain": [
       "array([0., 0., 0., 0., 0.])"
      ]
     },
     "execution_count": 15,
     "metadata": {},
     "output_type": "execute_result"
    }
   ],
   "source": [
    "a[0]"
   ]
  },
  {
   "cell_type": "code",
   "execution_count": 16,
   "id": "10d9eb38",
   "metadata": {},
   "outputs": [
    {
     "data": {
      "text/plain": [
       "0.0"
      ]
     },
     "execution_count": 16,
     "metadata": {},
     "output_type": "execute_result"
    }
   ],
   "source": [
    "a[0][0]"
   ]
  },
  {
   "cell_type": "code",
   "execution_count": 17,
   "id": "c0165397",
   "metadata": {},
   "outputs": [
    {
     "data": {
      "text/plain": [
       "array([0., 0., 0., 0., 0.])"
      ]
     },
     "execution_count": 17,
     "metadata": {},
     "output_type": "execute_result"
    }
   ],
   "source": [
    "a[:][0]"
   ]
  },
  {
   "cell_type": "code",
   "execution_count": 18,
   "id": "9146fb46",
   "metadata": {},
   "outputs": [],
   "source": [
    "a[:][0]=5+a[:][0]"
   ]
  },
  {
   "cell_type": "code",
   "execution_count": 19,
   "id": "abc155e3",
   "metadata": {},
   "outputs": [
    {
     "data": {
      "text/plain": [
       "array([[5., 5., 5., 5., 5.],\n",
       "       [0., 0., 0., 0., 0.],\n",
       "       [0., 0., 0., 0., 0.]])"
      ]
     },
     "execution_count": 19,
     "metadata": {},
     "output_type": "execute_result"
    }
   ],
   "source": [
    "a"
   ]
  },
  {
   "cell_type": "code",
   "execution_count": 20,
   "id": "d1d11365",
   "metadata": {},
   "outputs": [],
   "source": [
    "a[0][:]=1+a[0][:]"
   ]
  },
  {
   "cell_type": "code",
   "execution_count": 21,
   "id": "78200634",
   "metadata": {},
   "outputs": [
    {
     "data": {
      "text/plain": [
       "array([[6., 6., 6., 6., 6.],\n",
       "       [0., 0., 0., 0., 0.],\n",
       "       [0., 0., 0., 0., 0.]])"
      ]
     },
     "execution_count": 21,
     "metadata": {},
     "output_type": "execute_result"
    }
   ],
   "source": [
    "a"
   ]
  },
  {
   "cell_type": "code",
   "execution_count": 22,
   "id": "e897de28",
   "metadata": {},
   "outputs": [
    {
     "data": {
      "text/plain": [
       "array([6., 6., 6., 6., 6.])"
      ]
     },
     "execution_count": 22,
     "metadata": {},
     "output_type": "execute_result"
    }
   ],
   "source": [
    "a[:][0]"
   ]
  },
  {
   "cell_type": "code",
   "execution_count": 23,
   "id": "4e74fb77",
   "metadata": {},
   "outputs": [
    {
     "data": {
      "text/plain": [
       "array([6., 6., 6., 6., 6.])"
      ]
     },
     "execution_count": 23,
     "metadata": {},
     "output_type": "execute_result"
    }
   ],
   "source": [
    "a[0][:]"
   ]
  },
  {
   "cell_type": "code",
   "execution_count": 24,
   "id": "fbba3494",
   "metadata": {},
   "outputs": [
    {
     "data": {
      "text/plain": [
       "6.0"
      ]
     },
     "execution_count": 24,
     "metadata": {},
     "output_type": "execute_result"
    }
   ],
   "source": [
    "a[0][1]"
   ]
  },
  {
   "cell_type": "code",
   "execution_count": 25,
   "id": "626f90e1",
   "metadata": {
    "scrolled": true
   },
   "outputs": [
    {
     "data": {
      "text/plain": [
       "array([6., 0., 0.])"
      ]
     },
     "execution_count": 25,
     "metadata": {},
     "output_type": "execute_result"
    }
   ],
   "source": [
    "a[:,3]"
   ]
  },
  {
   "cell_type": "markdown",
   "id": "d2fbb843",
   "metadata": {},
   "source": [
    "# IMP"
   ]
  },
  {
   "cell_type": "code",
   "execution_count": 26,
   "id": "7772db72",
   "metadata": {},
   "outputs": [
    {
     "data": {
      "text/plain": [
       "array([[6., 6., 6., 6., 6.],\n",
       "       [0., 0., 0., 0., 0.],\n",
       "       [0., 0., 0., 0., 0.]])"
      ]
     },
     "execution_count": 26,
     "metadata": {},
     "output_type": "execute_result"
    }
   ],
   "source": [
    "a"
   ]
  },
  {
   "cell_type": "code",
   "execution_count": 27,
   "id": "55c36545",
   "metadata": {},
   "outputs": [],
   "source": [
    "a[:,3]=5+a[:,3] #5 will add to 3rd index column(4th)"
   ]
  },
  {
   "cell_type": "code",
   "execution_count": 28,
   "id": "2a34ead4",
   "metadata": {},
   "outputs": [
    {
     "data": {
      "text/plain": [
       "array([[ 6.,  6.,  6., 11.,  6.],\n",
       "       [ 0.,  0.,  0.,  5.,  0.],\n",
       "       [ 0.,  0.,  0.,  5.,  0.]])"
      ]
     },
     "execution_count": 28,
     "metadata": {},
     "output_type": "execute_result"
    }
   ],
   "source": [
    "a"
   ]
  },
  {
   "cell_type": "code",
   "execution_count": 29,
   "id": "a4c40e29",
   "metadata": {},
   "outputs": [
    {
     "data": {
      "text/plain": [
       "array([0., 0., 0., 5., 0.])"
      ]
     },
     "execution_count": 29,
     "metadata": {},
     "output_type": "execute_result"
    }
   ],
   "source": [
    "a[1]# 1st index row"
   ]
  },
  {
   "cell_type": "code",
   "execution_count": 30,
   "id": "fbfd3cb3",
   "metadata": {},
   "outputs": [
    {
     "data": {
      "text/plain": [
       "array([11.,  5.,  5.])"
      ]
     },
     "execution_count": 30,
     "metadata": {},
     "output_type": "execute_result"
    }
   ],
   "source": [
    "#3rd index column\n",
    "\n",
    "a[:,3]"
   ]
  },
  {
   "cell_type": "markdown",
   "id": "7907fc26",
   "metadata": {},
   "source": [
    "# np.empty()"
   ]
  },
  {
   "cell_type": "code",
   "execution_count": 3,
   "id": "0e322775",
   "metadata": {},
   "outputs": [
    {
     "data": {
      "text/plain": [
       "array([[0.        , 0.        , 0.4472136 , 0.0531494 , 0.18257419],\n",
       "       [0.4472136 , 0.2125976 , 0.36514837, 0.4472136 , 0.4783446 ],\n",
       "       [0.54772256, 0.4472136 , 0.85039041, 0.73029674, 0.4472136 ]])"
      ]
     },
     "execution_count": 3,
     "metadata": {},
     "output_type": "execute_result"
    }
   ],
   "source": [
    "np.empty((3,5))"
   ]
  },
  {
   "cell_type": "markdown",
   "id": "5b34dd00",
   "metadata": {},
   "source": [
    "# np.linspace()"
   ]
  },
  {
   "cell_type": "code",
   "execution_count": 5,
   "id": "5d93fdcd",
   "metadata": {},
   "outputs": [
    {
     "data": {
      "text/plain": [
       "array([2.        , 2.08163265, 2.16326531, 2.24489796, 2.32653061,\n",
       "       2.40816327, 2.48979592, 2.57142857, 2.65306122, 2.73469388,\n",
       "       2.81632653, 2.89795918, 2.97959184, 3.06122449, 3.14285714,\n",
       "       3.2244898 , 3.30612245, 3.3877551 , 3.46938776, 3.55102041,\n",
       "       3.63265306, 3.71428571, 3.79591837, 3.87755102, 3.95918367,\n",
       "       4.04081633, 4.12244898, 4.20408163, 4.28571429, 4.36734694,\n",
       "       4.44897959, 4.53061224, 4.6122449 , 4.69387755, 4.7755102 ,\n",
       "       4.85714286, 4.93877551, 5.02040816, 5.10204082, 5.18367347,\n",
       "       5.26530612, 5.34693878, 5.42857143, 5.51020408, 5.59183673,\n",
       "       5.67346939, 5.75510204, 5.83673469, 5.91836735, 6.        ])"
      ]
     },
     "execution_count": 5,
     "metadata": {},
     "output_type": "execute_result"
    }
   ],
   "source": [
    "np.linspace(2,6)"
   ]
  },
  {
   "cell_type": "code",
   "execution_count": 9,
   "id": "294a7094",
   "metadata": {},
   "outputs": [
    {
     "data": {
      "text/plain": [
       "array([2.        , 2.36363636, 2.72727273, 3.09090909, 3.45454545,\n",
       "       3.81818182, 4.18181818, 4.54545455, 4.90909091, 5.27272727,\n",
       "       5.63636364, 6.        ])"
      ]
     },
     "execution_count": 9,
     "metadata": {},
     "output_type": "execute_result"
    }
   ],
   "source": [
    "np.linspace(2,6,12) #12 nos between 2-6"
   ]
  },
  {
   "cell_type": "code",
   "execution_count": null,
   "id": "0eddaff9",
   "metadata": {},
   "outputs": [],
   "source": []
  },
  {
   "cell_type": "code",
   "execution_count": null,
   "id": "2e501c89",
   "metadata": {},
   "outputs": [],
   "source": [
    "#endpoint=False means end value will not included"
   ]
  },
  {
   "cell_type": "code",
   "execution_count": 12,
   "id": "9b1a04cd",
   "metadata": {},
   "outputs": [
    {
     "data": {
      "text/plain": [
       "array([2. , 2.3, 2.6, 2.9, 3.2, 3.5, 3.8, 4.1, 4.4, 4.7])"
      ]
     },
     "execution_count": 12,
     "metadata": {},
     "output_type": "execute_result"
    }
   ],
   "source": [
    "np.linspace(2,5,10,endpoint=False)"
   ]
  },
  {
   "cell_type": "code",
   "execution_count": null,
   "id": "93f81bdd",
   "metadata": {},
   "outputs": [],
   "source": []
  },
  {
   "cell_type": "code",
   "execution_count": 13,
   "id": "79315071",
   "metadata": {},
   "outputs": [],
   "source": [
    "#retstep"
   ]
  },
  {
   "cell_type": "code",
   "execution_count": 14,
   "id": "73b4577c",
   "metadata": {},
   "outputs": [
    {
     "data": {
      "text/plain": [
       "(array([2. , 2.3, 2.6, 2.9, 3.2, 3.5, 3.8, 4.1, 4.4, 4.7]), 0.3)"
      ]
     },
     "execution_count": 14,
     "metadata": {},
     "output_type": "execute_result"
    }
   ],
   "source": [
    "np.linspace(2,5,10,endpoint=False,retstep=True)"
   ]
  },
  {
   "cell_type": "code",
   "execution_count": 17,
   "id": "a27d26a3",
   "metadata": {},
   "outputs": [
    {
     "data": {
      "text/plain": [
       "(array([2.  , 2.06, 2.12, 2.18, 2.24, 2.3 , 2.36, 2.42, 2.48, 2.54, 2.6 ,\n",
       "        2.66, 2.72, 2.78, 2.84, 2.9 , 2.96, 3.02, 3.08, 3.14, 3.2 , 3.26,\n",
       "        3.32, 3.38, 3.44, 3.5 , 3.56, 3.62, 3.68, 3.74, 3.8 , 3.86, 3.92,\n",
       "        3.98, 4.04, 4.1 , 4.16, 4.22, 4.28, 4.34, 4.4 , 4.46, 4.52, 4.58,\n",
       "        4.64, 4.7 , 4.76, 4.82, 4.88, 4.94]),\n",
       " 0.06)"
      ]
     },
     "execution_count": 17,
     "metadata": {},
     "output_type": "execute_result"
    }
   ],
   "source": [
    "np.linspace(2,5,50,endpoint=False,retstep=True)"
   ]
  },
  {
   "cell_type": "markdown",
   "id": "41a82754",
   "metadata": {},
   "source": [
    "# reshape"
   ]
  },
  {
   "cell_type": "code",
   "execution_count": 11,
   "id": "2a31f3b9",
   "metadata": {},
   "outputs": [
    {
     "data": {
      "text/plain": [
       "array([[2.        , 2.36363636, 2.72727273, 3.09090909],\n",
       "       [3.45454545, 3.81818182, 4.18181818, 4.54545455],\n",
       "       [4.90909091, 5.27272727, 5.63636364, 6.        ]])"
      ]
     },
     "execution_count": 11,
     "metadata": {},
     "output_type": "execute_result"
    }
   ],
   "source": [
    "#make the above 3x4\n",
    "\n",
    "np.linspace(2,6,12).reshape(3,4)"
   ]
  },
  {
   "cell_type": "markdown",
   "id": "c2991bab",
   "metadata": {},
   "source": [
    "# logspace()"
   ]
  },
  {
   "cell_type": "code",
   "execution_count": 20,
   "id": "052dfe1d",
   "metadata": {},
   "outputs": [],
   "source": [
    "#same as linspace but gives log of the value"
   ]
  },
  {
   "cell_type": "code",
   "execution_count": 23,
   "id": "d9f2cc2e",
   "metadata": {},
   "outputs": [
    {
     "data": {
      "text/plain": [
       "<function numpy.logspace(start, stop, num=50, endpoint=True, base=10.0, dtype=None, axis=0)>"
      ]
     },
     "execution_count": 23,
     "metadata": {},
     "output_type": "execute_result"
    }
   ],
   "source": [
    "np.logspace"
   ]
  },
  {
   "cell_type": "code",
   "execution_count": 18,
   "id": "6635d5b9",
   "metadata": {},
   "outputs": [
    {
     "data": {
      "text/plain": [
       "array([1.00000000e+02, 1.20679264e+02, 1.45634848e+02, 1.75751062e+02,\n",
       "       2.12095089e+02, 2.55954792e+02, 3.08884360e+02, 3.72759372e+02,\n",
       "       4.49843267e+02, 5.42867544e+02, 6.55128557e+02, 7.90604321e+02,\n",
       "       9.54095476e+02, 1.15139540e+03, 1.38949549e+03, 1.67683294e+03,\n",
       "       2.02358965e+03, 2.44205309e+03, 2.94705170e+03, 3.55648031e+03,\n",
       "       4.29193426e+03, 5.17947468e+03, 6.25055193e+03, 7.54312006e+03,\n",
       "       9.10298178e+03, 1.09854114e+04, 1.32571137e+04, 1.59985872e+04,\n",
       "       1.93069773e+04, 2.32995181e+04, 2.81176870e+04, 3.39322177e+04,\n",
       "       4.09491506e+04, 4.94171336e+04, 5.96362332e+04, 7.19685673e+04,\n",
       "       8.68511374e+04, 1.04811313e+05, 1.26485522e+05, 1.52641797e+05,\n",
       "       1.84206997e+05, 2.22299648e+05, 2.68269580e+05, 3.23745754e+05,\n",
       "       3.90693994e+05, 4.71486636e+05, 5.68986603e+05, 6.86648845e+05,\n",
       "       8.28642773e+05, 1.00000000e+06])"
      ]
     },
     "execution_count": 18,
     "metadata": {},
     "output_type": "execute_result"
    }
   ],
   "source": [
    "np.logspace(2,6)"
   ]
  },
  {
   "cell_type": "code",
   "execution_count": 19,
   "id": "8cce5106",
   "metadata": {},
   "outputs": [
    {
     "data": {
      "text/plain": [
       "array([1.00000000e+02, 2.78255940e+02, 7.74263683e+02, 2.15443469e+03,\n",
       "       5.99484250e+03, 1.66810054e+04, 4.64158883e+04, 1.29154967e+05,\n",
       "       3.59381366e+05, 1.00000000e+06])"
      ]
     },
     "execution_count": 19,
     "metadata": {},
     "output_type": "execute_result"
    }
   ],
   "source": [
    "np.logspace(2,6,10)"
   ]
  },
  {
   "cell_type": "code",
   "execution_count": null,
   "id": "500bbe99",
   "metadata": {},
   "outputs": [],
   "source": []
  },
  {
   "cell_type": "code",
   "execution_count": 22,
   "id": "51639a42",
   "metadata": {},
   "outputs": [
    {
     "data": {
      "text/plain": [
       "array([ 4.        ,  4.66611616,  5.44316   ,  6.34960421,  7.4069977 ,\n",
       "        8.64047791, 10.0793684 , 11.75787594, 13.71590373, 16.        ])"
      ]
     },
     "execution_count": 22,
     "metadata": {},
     "output_type": "execute_result"
    }
   ],
   "source": [
    "np.logspace(2,4,10,base=2)"
   ]
  },
  {
   "cell_type": "code",
   "execution_count": null,
   "id": "862c0a0b",
   "metadata": {},
   "outputs": [],
   "source": []
  },
  {
   "cell_type": "code",
   "execution_count": 24,
   "id": "fb50d079",
   "metadata": {},
   "outputs": [],
   "source": [
    "a=np.arange(16)"
   ]
  },
  {
   "cell_type": "code",
   "execution_count": 25,
   "id": "5e3badad",
   "metadata": {},
   "outputs": [
    {
     "data": {
      "text/plain": [
       "array([ 0,  1,  2,  3,  4,  5,  6,  7,  8,  9, 10, 11, 12, 13, 14, 15])"
      ]
     },
     "execution_count": 25,
     "metadata": {},
     "output_type": "execute_result"
    }
   ],
   "source": [
    "a"
   ]
  },
  {
   "cell_type": "code",
   "execution_count": 28,
   "id": "bad3c9f4",
   "metadata": {},
   "outputs": [],
   "source": [
    "a=a.reshape(4,4)"
   ]
  },
  {
   "cell_type": "code",
   "execution_count": 29,
   "id": "8641f515",
   "metadata": {},
   "outputs": [
    {
     "data": {
      "text/plain": [
       "array([[ 0,  1,  2,  3],\n",
       "       [ 4,  5,  6,  7],\n",
       "       [ 8,  9, 10, 11],\n",
       "       [12, 13, 14, 15]])"
      ]
     },
     "execution_count": 29,
     "metadata": {},
     "output_type": "execute_result"
    }
   ],
   "source": [
    "a"
   ]
  },
  {
   "cell_type": "code",
   "execution_count": 30,
   "id": "112fc690",
   "metadata": {},
   "outputs": [
    {
     "data": {
      "text/plain": [
       "15"
      ]
     },
     "execution_count": 30,
     "metadata": {},
     "output_type": "execute_result"
    }
   ],
   "source": [
    "a.max()"
   ]
  },
  {
   "cell_type": "code",
   "execution_count": 31,
   "id": "58da0919",
   "metadata": {},
   "outputs": [
    {
     "data": {
      "text/plain": [
       "0"
      ]
     },
     "execution_count": 31,
     "metadata": {},
     "output_type": "execute_result"
    }
   ],
   "source": [
    "a.min()"
   ]
  },
  {
   "cell_type": "code",
   "execution_count": 32,
   "id": "d85efcee",
   "metadata": {},
   "outputs": [
    {
     "data": {
      "text/plain": [
       "array([[ 4,  5,  6,  7],\n",
       "       [ 8,  9, 10, 11],\n",
       "       [12, 13, 14, 15],\n",
       "       [16, 17, 18, 19]])"
      ]
     },
     "execution_count": 32,
     "metadata": {},
     "output_type": "execute_result"
    }
   ],
   "source": [
    "a=np.arange(4,20).reshape(4,4)\n",
    "\n",
    "a"
   ]
  },
  {
   "cell_type": "code",
   "execution_count": 33,
   "id": "3d6d4a3c",
   "metadata": {},
   "outputs": [
    {
     "data": {
      "text/plain": [
       "19"
      ]
     },
     "execution_count": 33,
     "metadata": {},
     "output_type": "execute_result"
    }
   ],
   "source": [
    "a.max()"
   ]
  },
  {
   "cell_type": "markdown",
   "id": "2ab4cc5a",
   "metadata": {},
   "source": [
    "# IMP"
   ]
  },
  {
   "cell_type": "code",
   "execution_count": 34,
   "id": "df4a5e05",
   "metadata": {},
   "outputs": [],
   "source": [
    "a=np.arange(4,40).reshape(3,6,2)"
   ]
  },
  {
   "cell_type": "code",
   "execution_count": 35,
   "id": "eb56f971",
   "metadata": {},
   "outputs": [
    {
     "data": {
      "text/plain": [
       "array([[[ 4,  5],\n",
       "        [ 6,  7],\n",
       "        [ 8,  9],\n",
       "        [10, 11],\n",
       "        [12, 13],\n",
       "        [14, 15]],\n",
       "\n",
       "       [[16, 17],\n",
       "        [18, 19],\n",
       "        [20, 21],\n",
       "        [22, 23],\n",
       "        [24, 25],\n",
       "        [26, 27]],\n",
       "\n",
       "       [[28, 29],\n",
       "        [30, 31],\n",
       "        [32, 33],\n",
       "        [34, 35],\n",
       "        [36, 37],\n",
       "        [38, 39]]])"
      ]
     },
     "execution_count": 35,
     "metadata": {},
     "output_type": "execute_result"
    }
   ],
   "source": [
    "a"
   ]
  },
  {
   "cell_type": "code",
   "execution_count": 36,
   "id": "9f756367",
   "metadata": {},
   "outputs": [
    {
     "data": {
      "text/plain": [
       "39"
      ]
     },
     "execution_count": 36,
     "metadata": {},
     "output_type": "execute_result"
    }
   ],
   "source": [
    "a.max()"
   ]
  },
  {
   "cell_type": "code",
   "execution_count": 37,
   "id": "f9141c70",
   "metadata": {},
   "outputs": [
    {
     "data": {
      "text/plain": [
       "array([[14, 15],\n",
       "       [26, 27],\n",
       "       [38, 39]])"
      ]
     },
     "execution_count": 37,
     "metadata": {},
     "output_type": "execute_result"
    }
   ],
   "source": [
    "a.max(axis=1) #column wise max"
   ]
  },
  {
   "cell_type": "code",
   "execution_count": 38,
   "id": "acfc0626",
   "metadata": {},
   "outputs": [
    {
     "data": {
      "text/plain": [
       "array([[28, 29],\n",
       "       [30, 31],\n",
       "       [32, 33],\n",
       "       [34, 35],\n",
       "       [36, 37],\n",
       "       [38, 39]])"
      ]
     },
     "execution_count": 38,
     "metadata": {},
     "output_type": "execute_result"
    }
   ],
   "source": [
    "a.max(axis=0)"
   ]
  },
  {
   "cell_type": "code",
   "execution_count": null,
   "id": "f0d2ef67",
   "metadata": {},
   "outputs": [],
   "source": []
  },
  {
   "cell_type": "code",
   "execution_count": null,
   "id": "029a29d6",
   "metadata": {},
   "outputs": [],
   "source": []
  },
  {
   "cell_type": "code",
   "execution_count": 39,
   "id": "9d3e7dfe",
   "metadata": {},
   "outputs": [
    {
     "data": {
      "text/plain": [
       "array([[ 4,  5,  6,  7,  8,  9],\n",
       "       [10, 11, 12, 13, 14, 15],\n",
       "       [16, 17, 18, 19, 20, 21],\n",
       "       [22, 23, 24, 25, 26, 27],\n",
       "       [28, 29, 30, 31, 32, 33],\n",
       "       [34, 35, 36, 37, 38, 39]])"
      ]
     },
     "execution_count": 39,
     "metadata": {},
     "output_type": "execute_result"
    }
   ],
   "source": [
    "b=np.arange(4,40).reshape(6,6)\n",
    "\n",
    "b"
   ]
  },
  {
   "cell_type": "code",
   "execution_count": 42,
   "id": "6382f22f",
   "metadata": {},
   "outputs": [
    {
     "data": {
      "text/plain": [
       "array([ 9, 15, 21, 27, 33, 39])"
      ]
     },
     "execution_count": 42,
     "metadata": {},
     "output_type": "execute_result"
    }
   ],
   "source": [
    "b.max(axis=1)#column wise comparison(4-5-6-7-8-9)--9,comparing vertically"
   ]
  },
  {
   "cell_type": "code",
   "execution_count": 41,
   "id": "405cdfc4",
   "metadata": {},
   "outputs": [
    {
     "data": {
      "text/plain": [
       "array([34, 35, 36, 37, 38, 39])"
      ]
     },
     "execution_count": 41,
     "metadata": {},
     "output_type": "execute_result"
    }
   ],
   "source": [
    "b.max(axis=0)#comparing horizontally(4-10-16-22-28-34)--34"
   ]
  },
  {
   "cell_type": "code",
   "execution_count": 43,
   "id": "18db0114",
   "metadata": {},
   "outputs": [
    {
     "data": {
      "text/plain": [
       "7"
      ]
     },
     "execution_count": 43,
     "metadata": {},
     "output_type": "execute_result"
    }
   ],
   "source": [
    "b[0,3]"
   ]
  },
  {
   "cell_type": "code",
   "execution_count": null,
   "id": "f909b232",
   "metadata": {},
   "outputs": [],
   "source": []
  }
 ],
 "metadata": {
  "kernelspec": {
   "display_name": "Python 3 (ipykernel)",
   "language": "python",
   "name": "python3"
  },
  "language_info": {
   "codemirror_mode": {
    "name": "ipython",
    "version": 3
   },
   "file_extension": ".py",
   "mimetype": "text/x-python",
   "name": "python",
   "nbconvert_exporter": "python",
   "pygments_lexer": "ipython3",
   "version": "3.9.7"
  }
 },
 "nbformat": 4,
 "nbformat_minor": 5
}
